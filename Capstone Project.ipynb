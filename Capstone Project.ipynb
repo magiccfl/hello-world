{
 "cells": [
  {
   "cell_type": "markdown",
   "metadata": {},
   "source": [
    "# Effects of China’s 2017 Large Shareholder Liquidity Regulation on Large Shareholders’ Pledging Behaviors"
   ]
  },
  {
   "cell_type": "markdown",
   "metadata": {},
   "source": [
    "## Introduction"
   ]
  },
  {
   "cell_type": "markdown",
   "metadata": {},
   "source": [
    "#### As China seeks to bring stability to the stock market and boost confidence amongst investors, they have constantly sought out pathways they felt confident would prevent large unpredictable movements of stocks by major shareholders. In May 2017, the Chinese government implemented another new policy which as translated from the Shanghai Stock Exchange’s documentation on the policy proposes that “The total number of shares liquidated shall not exceed 1% of the total number of shares of the company within any consecutive 90-day period if the majority shareholder or a specific shareholder reduces his or her holdings through centralized bidding trading.” This new policy has potentially brought about new issues that China did not predict would be the result of their policy. It is hypothesized that this policy has led to large shareholders seeking loopholes to circumvent the policy. The method that is believed to be the most common method of circumventing this policy is that of using one’s stake in the company as collateral on a loan. The investor seeks out a financial institution willing to give the investor a loan with the investor’s stake in a company as collateral. The investor can then default on the loan, keeping the money and giving up all the pledged stocks to the financial institution. This type of activity can be associated with causing share prices to drop and causing the very unrest and instability the policy was meant to limit."
   ]
  },
  {
   "cell_type": "markdown",
   "metadata": {},
   "source": [
    "#### Our group’s proposal and purpose is to research whether or not this recently implemented policy has led to changes in large shareholders’ handling of their stock, and more specifically whether there has been an increase in stock being used as collateral for loans amongst large shareholders. It’s also within our interests to see if there is a correlation between the higher number of shares a large shareholder has and the likelihood to engage in using stock as collateral to borrow money. The hypothesis is that the regulation has affected the behaviors of large shareholders pledging their stocks and the therefore the null hypothesis would be that we fail to find that the new regulation has an effect of large shareholders’ pledging behaviors. In addition to this, there are other factors that may impact an individual's’ decision to pledge like their age, industry, etc."
   ]
  },
  {
   "cell_type": "markdown",
   "metadata": {},
   "source": [
    "## Line Chart & Correlation Analysis"
   ]
  },
  {
   "cell_type": "code",
   "execution_count": 1,
   "metadata": {},
   "outputs": [],
   "source": [
    "%matplotlib inline"
   ]
  },
  {
   "cell_type": "code",
   "execution_count": 2,
   "metadata": {},
   "outputs": [],
   "source": [
    "import matplotlib.pyplot as plt\n",
    "import pandas as pd\n",
    "import numpy as np\n",
    "import pylab as pl\n",
    "import statsmodels.formula.api as smapi"
   ]
  },
  {
   "cell_type": "code",
   "execution_count": 3,
   "metadata": {},
   "outputs": [],
   "source": [
    "df=pd.read_csv(\"Data/Shareholding_Ratio_Pledge_Ratio.csv\",header=[0,1]) "
   ]
  },
  {
   "cell_type": "code",
   "execution_count": 4,
   "metadata": {},
   "outputs": [
    {
     "data": {
      "text/plain": [
       "(65, 9)"
      ]
     },
     "execution_count": 4,
     "metadata": {},
     "output_type": "execute_result"
    }
   ],
   "source": [
    "df.shape"
   ]
  },
  {
   "cell_type": "code",
   "execution_count": 5,
   "metadata": {},
   "outputs": [
    {
     "data": {
      "text/html": [
       "<div>\n",
       "<style scoped>\n",
       "    .dataframe tbody tr th:only-of-type {\n",
       "        vertical-align: middle;\n",
       "    }\n",
       "\n",
       "    .dataframe tbody tr th {\n",
       "        vertical-align: top;\n",
       "    }\n",
       "\n",
       "    .dataframe thead tr th {\n",
       "        text-align: left;\n",
       "    }\n",
       "</style>\n",
       "<table border=\"1\" class=\"dataframe\">\n",
       "  <thead>\n",
       "    <tr>\n",
       "      <th></th>\n",
       "      <th>Quarter</th>\n",
       "      <th colspan=\"2\" halign=\"left\">2018Q2</th>\n",
       "      <th colspan=\"2\" halign=\"left\">2017Q2</th>\n",
       "      <th colspan=\"2\" halign=\"left\">2017Q1</th>\n",
       "      <th colspan=\"2\" halign=\"left\">2016Q2</th>\n",
       "    </tr>\n",
       "    <tr>\n",
       "      <th></th>\n",
       "      <th>Name</th>\n",
       "      <th>Shareholding_Ratio</th>\n",
       "      <th>Pledge_Ratio</th>\n",
       "      <th>Shareholding_Ratio</th>\n",
       "      <th>Pledge_Ratio</th>\n",
       "      <th>Shareholding_Ratio</th>\n",
       "      <th>Pledge_Ratio</th>\n",
       "      <th>Shareholding_Ratio</th>\n",
       "      <th>Pledge_Ratio</th>\n",
       "    </tr>\n",
       "  </thead>\n",
       "  <tbody>\n",
       "    <tr>\n",
       "      <th>0</th>\n",
       "      <td>肖文革</td>\n",
       "      <td>44.04</td>\n",
       "      <td>100.00</td>\n",
       "      <td>65.17</td>\n",
       "      <td>81.47</td>\n",
       "      <td>65.17</td>\n",
       "      <td>83.89</td>\n",
       "      <td>65.17</td>\n",
       "      <td>55.87</td>\n",
       "    </tr>\n",
       "    <tr>\n",
       "      <th>1</th>\n",
       "      <td>俞龙生</td>\n",
       "      <td>4.33</td>\n",
       "      <td>0.00</td>\n",
       "      <td>4.33</td>\n",
       "      <td>0.00</td>\n",
       "      <td>4.33</td>\n",
       "      <td>0.00</td>\n",
       "      <td>18.23</td>\n",
       "      <td>0.00</td>\n",
       "    </tr>\n",
       "    <tr>\n",
       "      <th>2</th>\n",
       "      <td>赵瑞海</td>\n",
       "      <td>32.65</td>\n",
       "      <td>63.56</td>\n",
       "      <td>33.15</td>\n",
       "      <td>0.00</td>\n",
       "      <td>33.15</td>\n",
       "      <td>0.00</td>\n",
       "      <td>33.15</td>\n",
       "      <td>0.00</td>\n",
       "    </tr>\n",
       "    <tr>\n",
       "      <th>3</th>\n",
       "      <td>赵瑞宾</td>\n",
       "      <td>31.96</td>\n",
       "      <td>61.18</td>\n",
       "      <td>32.44</td>\n",
       "      <td>0.00</td>\n",
       "      <td>32.44</td>\n",
       "      <td>0.00</td>\n",
       "      <td>32.44</td>\n",
       "      <td>0.00</td>\n",
       "    </tr>\n",
       "    <tr>\n",
       "      <th>4</th>\n",
       "      <td>赵瑞杰</td>\n",
       "      <td>7.17</td>\n",
       "      <td>96.47</td>\n",
       "      <td>7.28</td>\n",
       "      <td>0.00</td>\n",
       "      <td>7.28</td>\n",
       "      <td>0.00</td>\n",
       "      <td>7.28</td>\n",
       "      <td>0.00</td>\n",
       "    </tr>\n",
       "  </tbody>\n",
       "</table>\n",
       "</div>"
      ],
      "text/plain": [
       "  Quarter             2018Q2                          2017Q2               \\\n",
       "     Name Shareholding_Ratio Pledge_Ratio Shareholding_Ratio Pledge_Ratio   \n",
       "0     肖文革              44.04       100.00              65.17        81.47   \n",
       "1     俞龙生               4.33         0.00               4.33         0.00   \n",
       "2     赵瑞海              32.65        63.56              33.15         0.00   \n",
       "3     赵瑞宾              31.96        61.18              32.44         0.00   \n",
       "4     赵瑞杰               7.17        96.47               7.28         0.00   \n",
       "\n",
       "              2017Q1                          2016Q2               \n",
       "  Shareholding_Ratio Pledge_Ratio Shareholding_Ratio Pledge_Ratio  \n",
       "0              65.17        83.89              65.17        55.87  \n",
       "1               4.33         0.00              18.23         0.00  \n",
       "2              33.15         0.00              33.15         0.00  \n",
       "3              32.44         0.00              32.44         0.00  \n",
       "4               7.28         0.00               7.28         0.00  "
      ]
     },
     "execution_count": 5,
     "metadata": {},
     "output_type": "execute_result"
    }
   ],
   "source": [
    "df.head()"
   ]
  },
  {
   "cell_type": "code",
   "execution_count": 6,
   "metadata": {},
   "outputs": [],
   "source": [
    "mean=df.mean()"
   ]
  },
  {
   "cell_type": "code",
   "execution_count": 7,
   "metadata": {},
   "outputs": [
    {
     "name": "stdout",
     "output_type": "stream",
     "text": [
      "2018Q2  Shareholding_Ratio    18.011846\n",
      "        Pledge_Ratio          79.292615\n",
      "2017Q2  Shareholding_Ratio    18.883385\n",
      "        Pledge_Ratio          58.994308\n",
      "2017Q1  Shareholding_Ratio    18.968923\n",
      "        Pledge_Ratio          52.157692\n",
      "2016Q2  Shareholding_Ratio    20.154615\n",
      "        Pledge_Ratio          36.920154\n",
      "dtype: float64\n"
     ]
    }
   ],
   "source": [
    "print(mean)"
   ]
  },
  {
   "cell_type": "code",
   "execution_count": 8,
   "metadata": {},
   "outputs": [
    {
     "data": {
      "text/plain": [
       "2016Q2  Pledge_Ratio          36.920154\n",
       "        Shareholding_Ratio    20.154615\n",
       "2017Q1  Pledge_Ratio          52.157692\n",
       "        Shareholding_Ratio    18.968923\n",
       "2017Q2  Pledge_Ratio          58.994308\n",
       "        Shareholding_Ratio    18.883385\n",
       "2018Q2  Pledge_Ratio          79.292615\n",
       "        Shareholding_Ratio    18.011846\n",
       "dtype: float64"
      ]
     },
     "execution_count": 8,
     "metadata": {},
     "output_type": "execute_result"
    }
   ],
   "source": [
    "#数据反转\n",
    "mean.iloc[::-1]"
   ]
  },
  {
   "cell_type": "code",
   "execution_count": 9,
   "metadata": {},
   "outputs": [],
   "source": [
    "average=mean.iloc[::-1].unstack()"
   ]
  },
  {
   "cell_type": "code",
   "execution_count": 10,
   "metadata": {},
   "outputs": [
    {
     "name": "stdout",
     "output_type": "stream",
     "text": [
      "        Pledge_Ratio  Shareholding_Ratio\n",
      "2016Q2     36.920154           20.154615\n",
      "2017Q1     52.157692           18.968923\n",
      "2017Q2     58.994308           18.883385\n",
      "2018Q2     79.292615           18.011846\n"
     ]
    }
   ],
   "source": [
    "print(average)"
   ]
  },
  {
   "cell_type": "code",
   "execution_count": 11,
   "metadata": {},
   "outputs": [
    {
     "data": {
      "image/png": "[encoded data removed]",
      "text/plain": [
       "<Figure size 720x504 with 2 Axes>"
      ]
     },
     "metadata": {
      "needs_background": "light"
     },
     "output_type": "display_data"
    }
   ],
   "source": [
    "ax1 = average.Shareholding_Ratio.plot(\n",
    "    figsize=(10, 7),\n",
    "    grid=True,\n",
    "    color='maroon'\n",
    ")\n",
    "plt.title('Shareholding Ratio vs. Pledge Ratio',fontsize=18)\n",
    "ax1.set_ylabel('Shareholding Ratio(%)',fontsize=16)\n",
    "\n",
    "plt.legend(labels = ['Shareholding Ratio'], loc = 'upper left', fontsize=16)\n",
    "\n",
    "ax2 = ax1.twinx()\n",
    "ax2.plot(average.Pledge_Ratio)\n",
    "\n",
    "ax2.set_ylabel('Pledge Ratio(%)',fontsize=16)\n",
    "plt.legend(labels = ['Pledge Ratio'], loc = 'upper right', fontsize=16)\n",
    "\n",
    "plt.show()\n"
   ]
  },
  {
   "cell_type": "markdown",
   "metadata": {},
   "source": [
    "#### The graph depicts the shareholding ratio going down while the pledge ratio goes up. The two variables are negatively correlated."
   ]
  },
  {
   "cell_type": "code",
   "execution_count": 12,
   "metadata": {},
   "outputs": [],
   "source": [
    "corr=average.corr()"
   ]
  },
  {
   "cell_type": "code",
   "execution_count": 13,
   "metadata": {},
   "outputs": [
    {
     "name": "stdout",
     "output_type": "stream",
     "text": [
      "                    Pledge_Ratio  Shareholding_Ratio\n",
      "Pledge_Ratio            1.000000           -0.975541\n",
      "Shareholding_Ratio     -0.975541            1.000000\n"
     ]
    }
   ],
   "source": [
    "print(corr)"
   ]
  },
  {
   "cell_type": "markdown",
   "metadata": {},
   "source": [
    "#### They are approximately 97% negatively correlated."
   ]
  },
  {
   "cell_type": "markdown",
   "metadata": {},
   "source": [
    "## Scatter Plot"
   ]
  },
  {
   "cell_type": "code",
   "execution_count": 14,
   "metadata": {
    "scrolled": true
   },
   "outputs": [
    {
     "data": {
      "text/plain": [
       "Text(0.5, 1.0, 'Shareholding Ratio vs. Pledge Ratio scatter plot')"
      ]
     },
     "execution_count": 14,
     "metadata": {},
     "output_type": "execute_result"
    },
    {
     "data": {
      "image/png": "[encoded data removed]",
      "text/plain": [
       "<Figure size 432x288 with 1 Axes>"
      ]
     },
     "metadata": {
      "needs_background": "light"
     },
     "output_type": "display_data"
    },
    {
     "data": {
      "image/png": "[encoded data removed]",
      "text/plain": [
       "<Figure size 432x288 with 1 Axes>"
      ]
     },
     "metadata": {
      "needs_background": "light"
     },
     "output_type": "display_data"
    },
    {
     "data": {
      "image/png": "[encoded data removed]",
      "text/plain": [
       "<Figure size 432x288 with 1 Axes>"
      ]
     },
     "metadata": {
      "needs_background": "light"
     },
     "output_type": "display_data"
    },
    {
     "data": {
      "image/png": "[encoded data removed]",
      "text/plain": [
       "<Figure size 432x288 with 1 Axes>"
      ]
     },
     "metadata": {
      "needs_background": "light"
     },
     "output_type": "display_data"
    }
   ],
   "source": [
    "ax = df['2016Q2'].plot.scatter(\n",
    "    x='Shareholding_Ratio',\n",
    "    y='Pledge_Ratio',\n",
    "    label=\"2016Q2\",\n",
    "    color='red',\n",
    ")\n",
    "df['2017Q1'].plot.scatter(\n",
    "    x='Shareholding_Ratio',\n",
    "    y='Pledge_Ratio',\n",
    "    label=\"2017Q1\",\n",
    "    color='blue',\n",
    ")\n",
    "df['2017Q2'].plot.scatter(\n",
    "    x='Shareholding_Ratio',\n",
    "    y='Pledge_Ratio',\n",
    "    label=\"2017Q2\",\n",
    "    color='orange',\n",
    ")\n",
    "df['2018Q2'].plot.scatter(\n",
    "    x='Shareholding_Ratio',\n",
    "    y='Pledge_Ratio',\n",
    "    label=\"2018Q2\",\n",
    "    color='green',\n",
    ")\n",
    "ax.set_ylabel('Pledge Ratio')\n",
    "ax.set_xlabel('Shareholding Ratio')\n",
    "ax.set_title('Shareholding Ratio vs. Pledge Ratio scatter plot')\n"
   ]
  },
  {
   "cell_type": "markdown",
   "metadata": {},
   "source": [
    "\n",
    "In these scatterplots which depict the trend for the pledge and shareholding ratios. In 2016, it seems the higher an individual’s shareholding ratio is, the lower their pledge ratio will be. However, this trend flips to becoming a higher shareholding ratio being positively correlated with a higher pledge ratio in 2017 and becomes much more extreme in 2018. This is curious because the new regulation had not yet been announced or in effect in 2017 Q1, yet there is already a trend reversal. One can guess that maybe there is secret information being passed to the large shareholders that preempted them to pledge their shares. It is probably an issue of interest to research to find more accurate information on what was occurring between 2016 and 2017 that may have caused this trend reversal. However, it is quite clear that in 2018, higher shareholding ratios quite positively correlate with higher pledge ratios. It is our conjecture that this trend spotted in 2018 is occurring largely as a result of the 2017 new regulation.\n",
    "\n"
   ]
  },
  {
   "cell_type": "markdown",
   "metadata": {},
   "source": [
    "## Bar Plot"
   ]
  },
  {
   "cell_type": "code",
   "execution_count": 15,
   "metadata": {},
   "outputs": [],
   "source": [
    "sh_df=pd.read_csv(\"Data/shareholder_age_industry.csv\") "
   ]
  },
  {
   "cell_type": "code",
   "execution_count": 16,
   "metadata": {},
   "outputs": [
    {
     "data": {
      "text/html": [
       "<div>\n",
       "<style scoped>\n",
       "    .dataframe tbody tr th:only-of-type {\n",
       "        vertical-align: middle;\n",
       "    }\n",
       "\n",
       "    .dataframe tbody tr th {\n",
       "        vertical-align: top;\n",
       "    }\n",
       "\n",
       "    .dataframe thead th {\n",
       "        text-align: right;\n",
       "    }\n",
       "</style>\n",
       "<table border=\"1\" class=\"dataframe\">\n",
       "  <thead>\n",
       "    <tr style=\"text-align: right;\">\n",
       "      <th></th>\n",
       "      <th>Shareholder</th>\n",
       "      <th>Age</th>\n",
       "      <th>Semiconductor</th>\n",
       "      <th>Technology_Hardware_and_Equipment</th>\n",
       "      <th>Software_and_Services</th>\n",
       "      <th>Pharmaceutical_Biotechnology_and_Life_Sciences</th>\n",
       "      <th>Media</th>\n",
       "      <th>Automotive_and_Auto_Parts</th>\n",
       "      <th>Durable_Consumer_Goods_and_Clothing</th>\n",
       "      <th>Retail</th>\n",
       "      <th>Business_and_Professional_Services</th>\n",
       "      <th>Capital_Goods</th>\n",
       "      <th>Real_Estate</th>\n",
       "      <th>Food_Beverages_and_Tobacco</th>\n",
       "    </tr>\n",
       "  </thead>\n",
       "  <tbody>\n",
       "    <tr>\n",
       "      <th>0</th>\n",
       "      <td>肖文革</td>\n",
       "      <td>51</td>\n",
       "      <td>0</td>\n",
       "      <td>0</td>\n",
       "      <td>0</td>\n",
       "      <td>0</td>\n",
       "      <td>1</td>\n",
       "      <td>0</td>\n",
       "      <td>0</td>\n",
       "      <td>0</td>\n",
       "      <td>0</td>\n",
       "      <td>0</td>\n",
       "      <td>0</td>\n",
       "      <td>0</td>\n",
       "    </tr>\n",
       "    <tr>\n",
       "      <th>1</th>\n",
       "      <td>俞龙生</td>\n",
       "      <td>58</td>\n",
       "      <td>0</td>\n",
       "      <td>0</td>\n",
       "      <td>0</td>\n",
       "      <td>0</td>\n",
       "      <td>0</td>\n",
       "      <td>0</td>\n",
       "      <td>0</td>\n",
       "      <td>0</td>\n",
       "      <td>0</td>\n",
       "      <td>1</td>\n",
       "      <td>0</td>\n",
       "      <td>0</td>\n",
       "    </tr>\n",
       "    <tr>\n",
       "      <th>2</th>\n",
       "      <td>赵瑞海</td>\n",
       "      <td>53</td>\n",
       "      <td>0</td>\n",
       "      <td>0</td>\n",
       "      <td>0</td>\n",
       "      <td>0</td>\n",
       "      <td>0</td>\n",
       "      <td>0</td>\n",
       "      <td>1</td>\n",
       "      <td>0</td>\n",
       "      <td>0</td>\n",
       "      <td>0</td>\n",
       "      <td>0</td>\n",
       "      <td>0</td>\n",
       "    </tr>\n",
       "    <tr>\n",
       "      <th>3</th>\n",
       "      <td>赵瑞宾</td>\n",
       "      <td>54</td>\n",
       "      <td>0</td>\n",
       "      <td>0</td>\n",
       "      <td>0</td>\n",
       "      <td>0</td>\n",
       "      <td>0</td>\n",
       "      <td>0</td>\n",
       "      <td>1</td>\n",
       "      <td>0</td>\n",
       "      <td>0</td>\n",
       "      <td>0</td>\n",
       "      <td>0</td>\n",
       "      <td>0</td>\n",
       "    </tr>\n",
       "    <tr>\n",
       "      <th>4</th>\n",
       "      <td>赵瑞杰</td>\n",
       "      <td>44</td>\n",
       "      <td>0</td>\n",
       "      <td>0</td>\n",
       "      <td>0</td>\n",
       "      <td>0</td>\n",
       "      <td>0</td>\n",
       "      <td>0</td>\n",
       "      <td>1</td>\n",
       "      <td>0</td>\n",
       "      <td>0</td>\n",
       "      <td>0</td>\n",
       "      <td>0</td>\n",
       "      <td>0</td>\n",
       "    </tr>\n",
       "  </tbody>\n",
       "</table>\n",
       "</div>"
      ],
      "text/plain": [
       "  Shareholder  Age  Semiconductor  Technology_Hardware_and_Equipment  \\\n",
       "0         肖文革   51              0                                  0   \n",
       "1         俞龙生   58              0                                  0   \n",
       "2         赵瑞海   53              0                                  0   \n",
       "3         赵瑞宾   54              0                                  0   \n",
       "4         赵瑞杰   44              0                                  0   \n",
       "\n",
       "   Software_and_Services  Pharmaceutical_Biotechnology_and_Life_Sciences  \\\n",
       "0                      0                                               0   \n",
       "1                      0                                               0   \n",
       "2                      0                                               0   \n",
       "3                      0                                               0   \n",
       "4                      0                                               0   \n",
       "\n",
       "   Media  Automotive_and_Auto_Parts  Durable_Consumer_Goods_and_Clothing  \\\n",
       "0      1                          0                                    0   \n",
       "1      0                          0                                    0   \n",
       "2      0                          0                                    1   \n",
       "3      0                          0                                    1   \n",
       "4      0                          0                                    1   \n",
       "\n",
       "   Retail  Business_and_Professional_Services  Capital_Goods  Real_Estate  \\\n",
       "0       0                                   0              0            0   \n",
       "1       0                                   0              1            0   \n",
       "2       0                                   0              0            0   \n",
       "3       0                                   0              0            0   \n",
       "4       0                                   0              0            0   \n",
       "\n",
       "   Food_Beverages_and_Tobacco  \n",
       "0                           0  \n",
       "1                           0  \n",
       "2                           0  \n",
       "3                           0  \n",
       "4                           0  "
      ]
     },
     "execution_count": 16,
     "metadata": {},
     "output_type": "execute_result"
    }
   ],
   "source": [
    "sh_df.head()"
   ]
  },
  {
   "cell_type": "code",
   "execution_count": 17,
   "metadata": {
    "scrolled": false
   },
   "outputs": [
    {
     "name": "stderr",
     "output_type": "stream",
     "text": [
      "C:\\Users\\Fanlin C\\Anaconda3\\lib\\site-packages\\ipykernel_launcher.py:5: FutureWarning: using a dict on a Series for aggregation\n",
      "is deprecated and will be removed in a future version\n",
      "  \"\"\"\n"
     ]
    },
    {
     "data": {
      "text/html": [
       "<div>\n",
       "<style scoped>\n",
       "    .dataframe tbody tr th:only-of-type {\n",
       "        vertical-align: middle;\n",
       "    }\n",
       "\n",
       "    .dataframe tbody tr th {\n",
       "        vertical-align: top;\n",
       "    }\n",
       "\n",
       "    .dataframe thead th {\n",
       "        text-align: right;\n",
       "    }\n",
       "</style>\n",
       "<table border=\"1\" class=\"dataframe\">\n",
       "  <thead>\n",
       "    <tr style=\"text-align: right;\">\n",
       "      <th></th>\n",
       "      <th>total</th>\n",
       "    </tr>\n",
       "    <tr>\n",
       "      <th>age_group</th>\n",
       "      <th></th>\n",
       "    </tr>\n",
       "  </thead>\n",
       "  <tbody>\n",
       "    <tr>\n",
       "      <th>25-34</th>\n",
       "      <td>3</td>\n",
       "    </tr>\n",
       "    <tr>\n",
       "      <th>35-44</th>\n",
       "      <td>6</td>\n",
       "    </tr>\n",
       "    <tr>\n",
       "      <th>45-54</th>\n",
       "      <td>40</td>\n",
       "    </tr>\n",
       "    <tr>\n",
       "      <th>55-64</th>\n",
       "      <td>12</td>\n",
       "    </tr>\n",
       "    <tr>\n",
       "      <th>65-74</th>\n",
       "      <td>3</td>\n",
       "    </tr>\n",
       "    <tr>\n",
       "      <th>75-84</th>\n",
       "      <td>1</td>\n",
       "    </tr>\n",
       "  </tbody>\n",
       "</table>\n",
       "</div>"
      ],
      "text/plain": [
       "           total\n",
       "age_group       \n",
       "25-34          3\n",
       "35-44          6\n",
       "45-54         40\n",
       "55-64         12\n",
       "65-74          3\n",
       "75-84          1"
      ]
     },
     "execution_count": 17,
     "metadata": {},
     "output_type": "execute_result"
    }
   ],
   "source": [
    "bins=[24,34,44,54,64,74,84]\n",
    "labels=['25-34','35-44','45-54','55-64','65-74','75-84']\n",
    "age_cut=pd.cut(sh_df.Age,bins,labels=labels)\n",
    "sh_df['age_group']=age_cut\n",
    "sh_df.groupby(by=['age_group'])['Shareholder'].agg({'total':np.size})"
   ]
  },
  {
   "cell_type": "code",
   "execution_count": 18,
   "metadata": {},
   "outputs": [
    {
     "data": {
      "text/html": [
       "<div>\n",
       "<style scoped>\n",
       "    .dataframe tbody tr th:only-of-type {\n",
       "        vertical-align: middle;\n",
       "    }\n",
       "\n",
       "    .dataframe tbody tr th {\n",
       "        vertical-align: top;\n",
       "    }\n",
       "\n",
       "    .dataframe thead th {\n",
       "        text-align: right;\n",
       "    }\n",
       "</style>\n",
       "<table border=\"1\" class=\"dataframe\">\n",
       "  <thead>\n",
       "    <tr style=\"text-align: right;\">\n",
       "      <th></th>\n",
       "      <th>Shareholder</th>\n",
       "      <th>Age</th>\n",
       "      <th>Semiconductor</th>\n",
       "      <th>Technology_Hardware_and_Equipment</th>\n",
       "      <th>Software_and_Services</th>\n",
       "      <th>Pharmaceutical_Biotechnology_and_Life_Sciences</th>\n",
       "      <th>Media</th>\n",
       "      <th>Automotive_and_Auto_Parts</th>\n",
       "      <th>Durable_Consumer_Goods_and_Clothing</th>\n",
       "      <th>Retail</th>\n",
       "      <th>Business_and_Professional_Services</th>\n",
       "      <th>Capital_Goods</th>\n",
       "      <th>Real_Estate</th>\n",
       "      <th>Food_Beverages_and_Tobacco</th>\n",
       "      <th>age_group</th>\n",
       "    </tr>\n",
       "  </thead>\n",
       "  <tbody>\n",
       "    <tr>\n",
       "      <th>0</th>\n",
       "      <td>肖文革</td>\n",
       "      <td>51</td>\n",
       "      <td>0</td>\n",
       "      <td>0</td>\n",
       "      <td>0</td>\n",
       "      <td>0</td>\n",
       "      <td>1</td>\n",
       "      <td>0</td>\n",
       "      <td>0</td>\n",
       "      <td>0</td>\n",
       "      <td>0</td>\n",
       "      <td>0</td>\n",
       "      <td>0</td>\n",
       "      <td>0</td>\n",
       "      <td>45-54</td>\n",
       "    </tr>\n",
       "    <tr>\n",
       "      <th>1</th>\n",
       "      <td>俞龙生</td>\n",
       "      <td>58</td>\n",
       "      <td>0</td>\n",
       "      <td>0</td>\n",
       "      <td>0</td>\n",
       "      <td>0</td>\n",
       "      <td>0</td>\n",
       "      <td>0</td>\n",
       "      <td>0</td>\n",
       "      <td>0</td>\n",
       "      <td>0</td>\n",
       "      <td>1</td>\n",
       "      <td>0</td>\n",
       "      <td>0</td>\n",
       "      <td>55-64</td>\n",
       "    </tr>\n",
       "    <tr>\n",
       "      <th>2</th>\n",
       "      <td>赵瑞海</td>\n",
       "      <td>53</td>\n",
       "      <td>0</td>\n",
       "      <td>0</td>\n",
       "      <td>0</td>\n",
       "      <td>0</td>\n",
       "      <td>0</td>\n",
       "      <td>0</td>\n",
       "      <td>1</td>\n",
       "      <td>0</td>\n",
       "      <td>0</td>\n",
       "      <td>0</td>\n",
       "      <td>0</td>\n",
       "      <td>0</td>\n",
       "      <td>45-54</td>\n",
       "    </tr>\n",
       "    <tr>\n",
       "      <th>3</th>\n",
       "      <td>赵瑞宾</td>\n",
       "      <td>54</td>\n",
       "      <td>0</td>\n",
       "      <td>0</td>\n",
       "      <td>0</td>\n",
       "      <td>0</td>\n",
       "      <td>0</td>\n",
       "      <td>0</td>\n",
       "      <td>1</td>\n",
       "      <td>0</td>\n",
       "      <td>0</td>\n",
       "      <td>0</td>\n",
       "      <td>0</td>\n",
       "      <td>0</td>\n",
       "      <td>45-54</td>\n",
       "    </tr>\n",
       "    <tr>\n",
       "      <th>4</th>\n",
       "      <td>赵瑞杰</td>\n",
       "      <td>44</td>\n",
       "      <td>0</td>\n",
       "      <td>0</td>\n",
       "      <td>0</td>\n",
       "      <td>0</td>\n",
       "      <td>0</td>\n",
       "      <td>0</td>\n",
       "      <td>1</td>\n",
       "      <td>0</td>\n",
       "      <td>0</td>\n",
       "      <td>0</td>\n",
       "      <td>0</td>\n",
       "      <td>0</td>\n",
       "      <td>35-44</td>\n",
       "    </tr>\n",
       "  </tbody>\n",
       "</table>\n",
       "</div>"
      ],
      "text/plain": [
       "  Shareholder  Age  Semiconductor  Technology_Hardware_and_Equipment  \\\n",
       "0         肖文革   51              0                                  0   \n",
       "1         俞龙生   58              0                                  0   \n",
       "2         赵瑞海   53              0                                  0   \n",
       "3         赵瑞宾   54              0                                  0   \n",
       "4         赵瑞杰   44              0                                  0   \n",
       "\n",
       "   Software_and_Services  Pharmaceutical_Biotechnology_and_Life_Sciences  \\\n",
       "0                      0                                               0   \n",
       "1                      0                                               0   \n",
       "2                      0                                               0   \n",
       "3                      0                                               0   \n",
       "4                      0                                               0   \n",
       "\n",
       "   Media  Automotive_and_Auto_Parts  Durable_Consumer_Goods_and_Clothing  \\\n",
       "0      1                          0                                    0   \n",
       "1      0                          0                                    0   \n",
       "2      0                          0                                    1   \n",
       "3      0                          0                                    1   \n",
       "4      0                          0                                    1   \n",
       "\n",
       "   Retail  Business_and_Professional_Services  Capital_Goods  Real_Estate  \\\n",
       "0       0                                   0              0            0   \n",
       "1       0                                   0              1            0   \n",
       "2       0                                   0              0            0   \n",
       "3       0                                   0              0            0   \n",
       "4       0                                   0              0            0   \n",
       "\n",
       "   Food_Beverages_and_Tobacco age_group  \n",
       "0                           0     45-54  \n",
       "1                           0     55-64  \n",
       "2                           0     45-54  \n",
       "3                           0     45-54  \n",
       "4                           0     35-44  "
      ]
     },
     "execution_count": 18,
     "metadata": {},
     "output_type": "execute_result"
    }
   ],
   "source": [
    "sh_df.head()"
   ]
  },
  {
   "cell_type": "code",
   "execution_count": 19,
   "metadata": {
    "scrolled": true
   },
   "outputs": [
    {
     "data": {
      "image/png": "[encoded data removed]",
      "text/plain": [
       "<Figure size 720x504 with 1 Axes>"
      ]
     },
     "metadata": {
      "needs_background": "light"
     },
     "output_type": "display_data"
    }
   ],
   "source": [
    "ax_age = sh_df.groupby('age_group').count()['Shareholder'].plot(\n",
    "kind='bar',\n",
    "color='orange',\n",
    "grid=True,\n",
    "figsize=(10, 7),\n",
    "title='Age Distribution',\n",
    ")\n",
    "\n",
    "ax_age.text(0, 3.5, '3',ha='center',size=12)\n",
    "ax_age.text(1, 6.5, '6',ha='center',size=12)\n",
    "ax_age.text(2, 40.5, '40',ha='center',size=12)\n",
    "ax_age.text(3, 12.5, '12',ha='center',size=12)\n",
    "ax_age.text(4, 3.5, '3',ha='center',size=12)\n",
    "ax_age.text(5, 1.5, '1',ha='center',size=12)\n",
    "\n",
    "pl.xticks(rotation=360)\n",
    "plt.show()\n"
   ]
  },
  {
   "cell_type": "markdown",
   "metadata": {},
   "source": [
    "### The people with the highest pledging potential are concentrated in the 45-54 years old group."
   ]
  },
  {
   "cell_type": "markdown",
   "metadata": {},
   "source": [
    "## Pie Chart"
   ]
  },
  {
   "cell_type": "code",
   "execution_count": 20,
   "metadata": {},
   "outputs": [
    {
     "data": {
      "text/plain": [
       "Index(['Shareholder', 'Age', 'Semiconductor',\n",
       "       'Technology_Hardware_and_Equipment', 'Software_and_Services',\n",
       "       'Pharmaceutical_Biotechnology_and_Life_Sciences', 'Media',\n",
       "       'Automotive_and_Auto_Parts', 'Durable_Consumer_Goods_and_Clothing',\n",
       "       'Retail', 'Business_and_Professional_Services', 'Capital_Goods',\n",
       "       'Real_Estate', 'Food_Beverages_and_Tobacco', 'age_group'],\n",
       "      dtype='object')"
      ]
     },
     "execution_count": 20,
     "metadata": {},
     "output_type": "execute_result"
    }
   ],
   "source": [
    "sh_df.columns"
   ]
  },
  {
   "cell_type": "code",
   "execution_count": 21,
   "metadata": {},
   "outputs": [],
   "source": [
    "labels2=['Semiconductor',\n",
    "       'Technology_Hardware_and_Equipment', 'Software_and_Services',\n",
    "       'Pharmaceutical_Biotechnology_and_Life_Sciences', 'Media',\n",
    "       'Automotive_and_Auto_Parts', 'Durable_Consumer_Goods_and_Clothing',\n",
    "       'Retail', 'Business_and_Professional_Services', 'Capital_Goods',\n",
    "       'Real_Estate', 'Food_Beverages_and_Tobacco']"
   ]
  },
  {
   "cell_type": "code",
   "execution_count": 22,
   "metadata": {},
   "outputs": [],
   "source": [
    "industry=sh_df[['Semiconductor',\n",
    "       'Technology_Hardware_and_Equipment', 'Software_and_Services',\n",
    "       'Pharmaceutical_Biotechnology_and_Life_Sciences', 'Media',\n",
    "       'Automotive_and_Auto_Parts', 'Durable_Consumer_Goods_and_Clothing',\n",
    "       'Retail', 'Business_and_Professional_Services', 'Capital_Goods',\n",
    "       'Real_Estate', 'Food_Beverages_and_Tobacco'\n",
    "      ]].sum()"
   ]
  },
  {
   "cell_type": "code",
   "execution_count": 23,
   "metadata": {
    "scrolled": true
   },
   "outputs": [
    {
     "data": {
      "text/plain": [
       "<function matplotlib.pyplot.show(*args, **kw)>"
      ]
     },
     "execution_count": 23,
     "metadata": {},
     "output_type": "execute_result"
    },
    {
     "data": {
      "image/png": "[encoded data removed]",
      "text/plain": [
       "<Figure size 720x720 with 1 Axes>"
      ]
     },
     "metadata": {},
     "output_type": "display_data"
    }
   ],
   "source": [
    "plt.figure(figsize=(10,10))\n",
    "\n",
    "plt.pie(industry,labels=labels2,explode=(0, 0, 0, 0, 0, 0, 0.05, 0, 0, 0.05, 0, 0),autopct='%1.1f%%')\n",
    "plt.show"
   ]
  },
  {
   "cell_type": "markdown",
   "metadata": {},
   "source": [
    "#### 18.5%(12 companies) are in the capital goods industry.\n",
    "#### 16.9%(11 companies) are in the durable consumer goods. \n",
    "#### We can see that pledging is not unique to any industry because every industry is pledging."
   ]
  },
  {
   "cell_type": "markdown",
   "metadata": {},
   "source": [
    "## Linear Regression Analysis"
   ]
  },
  {
   "cell_type": "code",
   "execution_count": 24,
   "metadata": {},
   "outputs": [],
   "source": [
    "r8_df=pd.read_csv(\"Data/R8.csv\") "
   ]
  },
  {
   "cell_type": "code",
   "execution_count": 25,
   "metadata": {
    "scrolled": true
   },
   "outputs": [
    {
     "data": {
      "text/html": [
       "<div>\n",
       "<style scoped>\n",
       "    .dataframe tbody tr th:only-of-type {\n",
       "        vertical-align: middle;\n",
       "    }\n",
       "\n",
       "    .dataframe tbody tr th {\n",
       "        vertical-align: top;\n",
       "    }\n",
       "\n",
       "    .dataframe thead th {\n",
       "        text-align: right;\n",
       "    }\n",
       "</style>\n",
       "<table border=\"1\" class=\"dataframe\">\n",
       "  <thead>\n",
       "    <tr style=\"text-align: right;\">\n",
       "      <th></th>\n",
       "      <th>pr</th>\n",
       "      <th>hr</th>\n",
       "      <th>fy</th>\n",
       "      <th>cage</th>\n",
       "      <th>age</th>\n",
       "      <th>dage</th>\n",
       "      <th>irr</th>\n",
       "      <th>sp</th>\n",
       "      <th>PE</th>\n",
       "      <th>mi</th>\n",
       "      <th>...</th>\n",
       "      <th>m</th>\n",
       "      <th>aap</th>\n",
       "      <th>dcgc</th>\n",
       "      <th>r</th>\n",
       "      <th>bps</th>\n",
       "      <th>cg</th>\n",
       "      <th>t</th>\n",
       "      <th>re</th>\n",
       "      <th>fbt</th>\n",
       "      <th>mats</th>\n",
       "    </tr>\n",
       "  </thead>\n",
       "  <tbody>\n",
       "    <tr>\n",
       "      <th>0</th>\n",
       "      <td>0.558691</td>\n",
       "      <td>0.6517</td>\n",
       "      <td>2003</td>\n",
       "      <td>13</td>\n",
       "      <td>49</td>\n",
       "      <td>1</td>\n",
       "      <td>-17.558058</td>\n",
       "      <td>23.43</td>\n",
       "      <td>48.4377</td>\n",
       "      <td>2929.606</td>\n",
       "      <td>...</td>\n",
       "      <td>1</td>\n",
       "      <td>0</td>\n",
       "      <td>0</td>\n",
       "      <td>0</td>\n",
       "      <td>0</td>\n",
       "      <td>0</td>\n",
       "      <td>0</td>\n",
       "      <td>0</td>\n",
       "      <td>0</td>\n",
       "      <td>0</td>\n",
       "    </tr>\n",
       "    <tr>\n",
       "      <th>1</th>\n",
       "      <td>0.000000</td>\n",
       "      <td>0.1823</td>\n",
       "      <td>2001</td>\n",
       "      <td>15</td>\n",
       "      <td>56</td>\n",
       "      <td>1</td>\n",
       "      <td>-10.042954</td>\n",
       "      <td>43.98</td>\n",
       "      <td>351.9782</td>\n",
       "      <td>2929.606</td>\n",
       "      <td>...</td>\n",
       "      <td>0</td>\n",
       "      <td>0</td>\n",
       "      <td>0</td>\n",
       "      <td>0</td>\n",
       "      <td>0</td>\n",
       "      <td>1</td>\n",
       "      <td>0</td>\n",
       "      <td>0</td>\n",
       "      <td>0</td>\n",
       "      <td>0</td>\n",
       "    </tr>\n",
       "    <tr>\n",
       "      <th>2</th>\n",
       "      <td>0.000000</td>\n",
       "      <td>0.3315</td>\n",
       "      <td>1993</td>\n",
       "      <td>23</td>\n",
       "      <td>51</td>\n",
       "      <td>1</td>\n",
       "      <td>3.021361</td>\n",
       "      <td>16.00</td>\n",
       "      <td>0.0000</td>\n",
       "      <td>2929.606</td>\n",
       "      <td>...</td>\n",
       "      <td>0</td>\n",
       "      <td>0</td>\n",
       "      <td>1</td>\n",
       "      <td>0</td>\n",
       "      <td>0</td>\n",
       "      <td>0</td>\n",
       "      <td>0</td>\n",
       "      <td>0</td>\n",
       "      <td>0</td>\n",
       "      <td>0</td>\n",
       "    </tr>\n",
       "    <tr>\n",
       "      <th>3</th>\n",
       "      <td>0.000000</td>\n",
       "      <td>0.3244</td>\n",
       "      <td>1993</td>\n",
       "      <td>23</td>\n",
       "      <td>52</td>\n",
       "      <td>1</td>\n",
       "      <td>3.021361</td>\n",
       "      <td>16.00</td>\n",
       "      <td>0.0000</td>\n",
       "      <td>2929.606</td>\n",
       "      <td>...</td>\n",
       "      <td>0</td>\n",
       "      <td>0</td>\n",
       "      <td>1</td>\n",
       "      <td>0</td>\n",
       "      <td>0</td>\n",
       "      <td>0</td>\n",
       "      <td>0</td>\n",
       "      <td>0</td>\n",
       "      <td>0</td>\n",
       "      <td>0</td>\n",
       "    </tr>\n",
       "    <tr>\n",
       "      <th>4</th>\n",
       "      <td>0.000000</td>\n",
       "      <td>0.0728</td>\n",
       "      <td>1993</td>\n",
       "      <td>23</td>\n",
       "      <td>42</td>\n",
       "      <td>1</td>\n",
       "      <td>3.021361</td>\n",
       "      <td>16.00</td>\n",
       "      <td>0.0000</td>\n",
       "      <td>2929.606</td>\n",
       "      <td>...</td>\n",
       "      <td>0</td>\n",
       "      <td>0</td>\n",
       "      <td>1</td>\n",
       "      <td>0</td>\n",
       "      <td>0</td>\n",
       "      <td>0</td>\n",
       "      <td>0</td>\n",
       "      <td>0</td>\n",
       "      <td>0</td>\n",
       "      <td>0</td>\n",
       "    </tr>\n",
       "  </tbody>\n",
       "</table>\n",
       "<p>5 rows × 27 columns</p>\n",
       "</div>"
      ],
      "text/plain": [
       "         pr      hr    fy  cage  age  dage        irr     sp        PE  \\\n",
       "0  0.558691  0.6517  2003    13   49     1 -17.558058  23.43   48.4377   \n",
       "1  0.000000  0.1823  2001    15   56     1 -10.042954  43.98  351.9782   \n",
       "2  0.000000  0.3315  1993    23   51     1   3.021361  16.00    0.0000   \n",
       "3  0.000000  0.3244  1993    23   52     1   3.021361  16.00    0.0000   \n",
       "4  0.000000  0.0728  1993    23   42     1   3.021361  16.00    0.0000   \n",
       "\n",
       "         mi  ...  m  aap  dcgc  r  bps  cg  t  re  fbt  mats  \n",
       "0  2929.606  ...  1    0     0  0    0   0  0   0    0     0  \n",
       "1  2929.606  ...  0    0     0  0    0   1  0   0    0     0  \n",
       "2  2929.606  ...  0    0     1  0    0   0  0   0    0     0  \n",
       "3  2929.606  ...  0    0     1  0    0   0  0   0    0     0  \n",
       "4  2929.606  ...  0    0     1  0    0   0  0   0    0     0  \n",
       "\n",
       "[5 rows x 27 columns]"
      ]
     },
     "execution_count": 25,
     "metadata": {},
     "output_type": "execute_result"
    }
   ],
   "source": [
    "r8_df.head()"
   ]
  },
  {
   "cell_type": "markdown",
   "metadata": {},
   "source": [
    "#### pr = Pledge Ratio => Calculated using number of shares pledged divided by shares held.\n",
    "#### hr = Shareholding Ratio => Percentage of company’s shares owned by the individual\n",
    "#### fy = Founding Year => Year company was founded\n",
    "#### age => Ages of individuals\n",
    "#### dage => Dummy variable for individuals whose ages are estimated\n",
    "#### irr = Interval Rate of Return\n",
    "#### sp = Stock Price\n",
    "#### PE = Price-Earnings Ratio\n",
    "#### mi = Market Index => Shanghai Composite\n",
    "#### np = China’s New Large Shareholder Regulation in 2017 => Dummy variable for policy’s implementation\n",
    "#### sc => Dummy variable for semiconductor industry sector\n",
    "#### the => Dummy variable for technology, hardware, and equipment industry sector\n",
    "#### ss => Dummy variable for software and services industry sector\n",
    "#### u => Dummy variable for utilities industry sector\n",
    "#### pbls => Dummy variable for pharmacy, biotechnology, and life science industry sector\n",
    "#### hes => Dummy variable for healthcare, equipment, and services industry sector\n",
    "#### m => Dummy variable for media industry sector\n",
    "#### aap => Dummy variable for automotive and auto parts industry sector\n",
    "#### dcgc => Dummy variable for durable consumer goods and clothing industry sector\n",
    "#### r => Dummy variable for retail industry sector\n",
    "#### bps => Dummy variable for business and professional services industry sector\n",
    "#### cg => Dummy variable for capital goods industry sector\n",
    "#### t => Dummy variable for transportation industry sector\n",
    "#### re => Dummy variable for real estate industry sector\n",
    "#### fbt => Dummy variable for food, beverages, and tobacco industry sector\n",
    "#### mats => Dummy variable for materials industry sector\n"
   ]
  },
  {
   "cell_type": "code",
   "execution_count": 26,
   "metadata": {},
   "outputs": [
    {
     "data": {
      "text/html": [
       "<table class=\"simpletable\">\n",
       "<caption>OLS Regression Results</caption>\n",
       "<tr>\n",
       "  <th>Dep. Variable:</th>           <td>pr</td>        <th>  R-squared:         </th> <td>   0.213</td>\n",
       "</tr>\n",
       "<tr>\n",
       "  <th>Model:</th>                   <td>OLS</td>       <th>  Adj. R-squared:    </th> <td>   0.194</td>\n",
       "</tr>\n",
       "<tr>\n",
       "  <th>Method:</th>             <td>Least Squares</td>  <th>  F-statistic:       </th> <td>   11.38</td>\n",
       "</tr>\n",
       "<tr>\n",
       "  <th>Date:</th>             <td>Thu, 05 Sep 2019</td> <th>  Prob (F-statistic):</th> <td>2.91e-11</td>\n",
       "</tr>\n",
       "<tr>\n",
       "  <th>Time:</th>                 <td>00:59:19</td>     <th>  Log-Likelihood:    </th> <td> -76.680</td>\n",
       "</tr>\n",
       "<tr>\n",
       "  <th>No. Observations:</th>      <td>   260</td>      <th>  AIC:               </th> <td>   167.4</td>\n",
       "</tr>\n",
       "<tr>\n",
       "  <th>Df Residuals:</th>          <td>   253</td>      <th>  BIC:               </th> <td>   192.3</td>\n",
       "</tr>\n",
       "<tr>\n",
       "  <th>Df Model:</th>              <td>     6</td>      <th>                     </th>     <td> </td>   \n",
       "</tr>\n",
       "<tr>\n",
       "  <th>Covariance Type:</th>      <td>nonrobust</td>    <th>                     </th>     <td> </td>   \n",
       "</tr>\n",
       "</table>\n",
       "<table class=\"simpletable\">\n",
       "<tr>\n",
       "      <td></td>         <th>coef</th>     <th>std err</th>      <th>t</th>      <th>P>|t|</th>  <th>[0.025</th>    <th>0.975]</th>  \n",
       "</tr>\n",
       "<tr>\n",
       "  <th>Intercept</th> <td>    0.8848</td> <td>    0.147</td> <td>    6.036</td> <td> 0.000</td> <td>    0.596</td> <td>    1.173</td>\n",
       "</tr>\n",
       "<tr>\n",
       "  <th>hr</th>        <td>    0.2999</td> <td>    0.151</td> <td>    1.981</td> <td> 0.049</td> <td>    0.002</td> <td>    0.598</td>\n",
       "</tr>\n",
       "<tr>\n",
       "  <th>cage</th>      <td>   -0.0093</td> <td>    0.005</td> <td>   -2.015</td> <td> 0.045</td> <td>   -0.018</td> <td>   -0.000</td>\n",
       "</tr>\n",
       "<tr>\n",
       "  <th>age</th>       <td>   -0.0059</td> <td>    0.002</td> <td>   -2.409</td> <td> 0.017</td> <td>   -0.011</td> <td>   -0.001</td>\n",
       "</tr>\n",
       "<tr>\n",
       "  <th>irr</th>       <td>   -0.0032</td> <td>    0.001</td> <td>   -2.792</td> <td> 0.006</td> <td>   -0.005</td> <td>   -0.001</td>\n",
       "</tr>\n",
       "<tr>\n",
       "  <th>sp</th>        <td>   -0.0021</td> <td>    0.001</td> <td>   -1.800</td> <td> 0.073</td> <td>   -0.004</td> <td>    0.000</td>\n",
       "</tr>\n",
       "<tr>\n",
       "  <th>np</th>        <td>    0.1887</td> <td>    0.046</td> <td>    4.145</td> <td> 0.000</td> <td>    0.099</td> <td>    0.278</td>\n",
       "</tr>\n",
       "</table>\n",
       "<table class=\"simpletable\">\n",
       "<tr>\n",
       "  <th>Omnibus:</th>       <td>34.675</td> <th>  Durbin-Watson:     </th> <td>   1.483</td>\n",
       "</tr>\n",
       "<tr>\n",
       "  <th>Prob(Omnibus):</th> <td> 0.000</td> <th>  Jarque-Bera (JB):  </th> <td>  13.758</td>\n",
       "</tr>\n",
       "<tr>\n",
       "  <th>Skew:</th>          <td>-0.338</td> <th>  Prob(JB):          </th> <td> 0.00103</td>\n",
       "</tr>\n",
       "<tr>\n",
       "  <th>Kurtosis:</th>      <td> 2.099</td> <th>  Cond. No.          </th> <td>    500.</td>\n",
       "</tr>\n",
       "</table><br/><br/>Warnings:<br/>[1] Standard Errors assume that the covariance matrix of the errors is correctly specified."
      ],
      "text/plain": [
       "<class 'statsmodels.iolib.summary.Summary'>\n",
       "\"\"\"\n",
       "                            OLS Regression Results                            \n",
       "==============================================================================\n",
       "Dep. Variable:                     pr   R-squared:                       0.213\n",
       "Model:                            OLS   Adj. R-squared:                  0.194\n",
       "Method:                 Least Squares   F-statistic:                     11.38\n",
       "Date:                Thu, 05 Sep 2019   Prob (F-statistic):           2.91e-11\n",
       "Time:                        00:59:19   Log-Likelihood:                -76.680\n",
       "No. Observations:                 260   AIC:                             167.4\n",
       "Df Residuals:                     253   BIC:                             192.3\n",
       "Df Model:                           6                                         \n",
       "Covariance Type:            nonrobust                                         \n",
       "==============================================================================\n",
       "                 coef    std err          t      P>|t|      [0.025      0.975]\n",
       "------------------------------------------------------------------------------\n",
       "Intercept      0.8848      0.147      6.036      0.000       0.596       1.173\n",
       "hr             0.2999      0.151      1.981      0.049       0.002       0.598\n",
       "cage          -0.0093      0.005     -2.015      0.045      -0.018      -0.000\n",
       "age           -0.0059      0.002     -2.409      0.017      -0.011      -0.001\n",
       "irr           -0.0032      0.001     -2.792      0.006      -0.005      -0.001\n",
       "sp            -0.0021      0.001     -1.800      0.073      -0.004       0.000\n",
       "np             0.1887      0.046      4.145      0.000       0.099       0.278\n",
       "==============================================================================\n",
       "Omnibus:                       34.675   Durbin-Watson:                   1.483\n",
       "Prob(Omnibus):                  0.000   Jarque-Bera (JB):               13.758\n",
       "Skew:                          -0.338   Prob(JB):                      0.00103\n",
       "Kurtosis:                       2.099   Cond. No.                         500.\n",
       "==============================================================================\n",
       "\n",
       "Warnings:\n",
       "[1] Standard Errors assume that the covariance matrix of the errors is correctly specified.\n",
       "\"\"\""
      ]
     },
     "execution_count": 26,
     "metadata": {},
     "output_type": "execute_result"
    }
   ],
   "source": [
    "lm=smapi.ols(formula=\"pr~hr+cage+age+irr+sp+np\",data=r8_df).fit()\n",
    "lm.summary()\n"
   ]
  },
  {
   "cell_type": "markdown",
   "metadata": {},
   "source": [
    "#### From our regression, we found that most of our variables are significant at a 5% significance level in affecting the pledge ratio of individuals. \n",
    "#### The higher a large shareholders shareholding ratio is, the more likely they are to pledge as depicted with the variable having a .299871 coefficient. In theory, the new policy is more likely to affect individuals with higher shareholding ratios because it creates a limit on how quickly they can liquidate their shares, meaning that those with higher shareholding ratios would require a longer time to liquidate their shares. To circumvent this, pledging is one of the major options that they can engage in to increase liquidity. \n",
    "#### The age of a company also seems to play a role in the decision to pledge. This is potentially due to the notion that older more established companies may not need to be aggressively trying to grow their business by pledging shares to get capital to invest in the business whilst younger companies like companies which were founded due to the technology industry boom in the 2000s may still be aggressively trying to grow their companies. \n",
    "#### Contrary to what was previously expected, age of individuals seems to play a negative role in an individual’s decision to pledge. Initially, our group expected that as a large shareholder got older, it would increase their urgency of needing to liquidate their assets so they can essentially enjoy the benefits of their net worth. However, in our regression, we find that being younger leads to having a higher pledge ratio. This can potentially be explained by the data, because we see the individuals with the highest pledge ratios around the age of 50. At the age of 50, a successful individual may potentially be considering an early retirement and thus, to gain the most immediate benefit from their investments/shares held, they may opt to pledge their shares, take the money, and exit the business world. \n",
    "#### Interval rate of return is a frequently utilized indicator of how a business is performing in China. From what our regression finds, it seems to fit in with what should theoretically be happening. If a company is doing well, having a higher interval rate of return, the large shareholders would be less likely to pledge because pledging at a later date may bring them more value because the company is doing better, thus stock prices should also be higher. On the topic of stock prices, our regression found that stock prices we had in our data were not statistically significant. This can potentially be explained by the fact that our data only utilized four days of stock price data which was not enough to find a significant effect. \n",
    "#### The new policy, which is one of the major focuses of our paper was found to be an extremely significant factor in large shareholders’ decision to pledge. Since this new policy implements liquidity reductions to the shares held by large shareholders, it is highly motivating them to pledge because under the new regulation a large shareholder will most likely only be able to liquidate a total of 4% of a company’s total shares per year. By pledging shares, a large shareholder with a 20% shareholding ratio would essentially be able to instantly liquidate all their shares, although the value they receive is potentially lower than if they slowly liquidated under the new policy’s guidelines. In the previous sentence, it’s mentioned that the value received is potentially lower. This is an extremely important aspect because the new policy was implemented to increase confidence in the market and bring stability to the market. Large shareholders may view this policy as concrete evidence that markets are in fact not stable and therefore have little to no confidence in the stock market. If this is the case, large shareholders expect the market to go down, thus their expected value for slowly liquidating shares according to the new policy’s guidelines may in fact be lower than their expected value of pledging and quickly liquidating their shares."
   ]
  }
 ],
 "metadata": {
  "kernelspec": {
   "display_name": "Python 3",
   "language": "python",
   "name": "python3"
  },
  "language_info": {
   "codemirror_mode": {
    "name": "ipython",
    "version": 3
   },
   "file_extension": ".py",
   "mimetype": "text/x-python",
   "name": "python",
   "nbconvert_exporter": "python",
   "pygments_lexer": "ipython3",
   "version": "3.7.3"
  }
 },
 "nbformat": 4,
 "nbformat_minor": 2
}
